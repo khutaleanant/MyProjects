{
 "cells": [
  {
   "cell_type": "code",
   "execution_count": 2,
   "id": "b0388a69-a327-4d34-9f26-5d0056425af7",
   "metadata": {},
   "outputs": [
    {
     "name": "stdout",
     "output_type": "stream",
     "text": [
      "hello, world\n"
     ]
    }
   ],
   "source": [
    "print (\"hello, world\")"
   ]
  },
  {
   "cell_type": "code",
   "execution_count": 8,
   "id": "f311433a-45a8-4804-83b2-a7e7c9ab5ee3",
   "metadata": {},
   "outputs": [
    {
     "name": "stdout",
     "output_type": "stream",
     "text": [
      "12\n",
      "10\n"
     ]
    }
   ],
   "source": [
    "X = 10\n",
    "x = 12\n",
    "print(x)\n",
    "print(X)"
   ]
  },
  {
   "cell_type": "code",
   "execution_count": 12,
   "id": "f6b5118c-b4ae-4e13-bafa-845e8d3dd230",
   "metadata": {},
   "outputs": [
    {
     "name": "stdout",
     "output_type": "stream",
     "text": [
      "Anant\n"
     ]
    }
   ],
   "source": [
    "X = \"Anant\"\n",
    "print(X)"
   ]
  },
  {
   "cell_type": "code",
   "execution_count": 20,
   "id": "c2db7c43-71ed-4259-bf72-f3ae8122a013",
   "metadata": {},
   "outputs": [
    {
     "name": "stdout",
     "output_type": "stream",
     "text": [
      "A\n",
      "a\n"
     ]
    }
   ],
   "source": [
    "print(X[0])\n",
    "print(X[2])"
   ]
  },
  {
   "cell_type": "code",
   "execution_count": 22,
   "id": "9d65863d-81bc-4143-9494-b3f6b746e63f",
   "metadata": {},
   "outputs": [
    {
     "name": "stdout",
     "output_type": "stream",
     "text": [
      "Anant Khutale\n"
     ]
    }
   ],
   "source": [
    "print(\"Anant Khutale\")"
   ]
  },
  {
   "cell_type": "code",
   "execution_count": 28,
   "id": "b4a4f9cf-174c-486a-884d-a31abe0c30c4",
   "metadata": {},
   "outputs": [
    {
     "name": "stdout",
     "output_type": "stream",
     "text": [
      "anant \n",
      "Khutale \n",
      "kolhapur \n",
      "Maharashtra \n",
      "India\n"
     ]
    }
   ],
   "source": [
    "print(\"anant \\nKhutale \\nkolhapur \\nMaharashtra \\nIndia\")"
   ]
  },
  {
   "cell_type": "code",
   "execution_count": 44,
   "id": "5023489a-12ac-4ce8-b8ac-67f859e2ba0a",
   "metadata": {},
   "outputs": [
    {
     "ename": "TypeError",
     "evalue": "unsupported operand type(s) for &: 'type' and 'str'",
     "output_type": "error",
     "traceback": [
      "\u001b[1;31m---------------------------------------------------------------------------\u001b[0m",
      "\u001b[1;31mTypeError\u001b[0m                                 Traceback (most recent call last)",
      "Cell \u001b[1;32mIn[44], line 1\u001b[0m\n\u001b[1;32m----> 1\u001b[0m \u001b[38;5;28mprint\u001b[39m(\u001b[38;5;28mtype\u001b[39m(x) \u001b[38;5;241m&\u001b[39m\u001b[38;5;124m\"\u001b[39m\u001b[38;5;124m/n\u001b[39m\u001b[38;5;124m\"\u001b[39m\u001b[38;5;241m&\u001b[39m \u001b[38;5;28mtype\u001b[39m(X))\n",
      "\u001b[1;31mTypeError\u001b[0m: unsupported operand type(s) for &: 'type' and 'str'"
     ]
    }
   ],
   "source": [
    "print(type(x),\"/n\", type(X))"
   ]
  },
  {
   "cell_type": "code",
   "execution_count": 72,
   "id": "d32ad7af-de4d-4a09-9ba6-ddad8cc26343",
   "metadata": {},
   "outputs": [
    {
     "name": "stdout",
     "output_type": "stream",
     "text": [
      "{'Name': 'Anant', 'Age': 42, 'Address': 'Kolhpaur'}\n",
      "{'Name': 'Mahesh', 'Age': 45, 'Address': 'Pune'}\n"
     ]
    }
   ],
   "source": [
    "thisdict = {\"Name\": \"Anant\",\"Age\":42,\"Address\":\"Kolhpaur\"}\n",
    "thisdict2 = {\"Name\": \"Mahesh\",\"Age\":45,\"Address\":\"Pune\"}\n",
    "print(thisdict)\n",
    "print(thisdict2)"
   ]
  },
  {
   "cell_type": "code",
   "execution_count": 64,
   "id": "a48fddbb-8b1a-4bff-9c22-17b12fcc8824",
   "metadata": {},
   "outputs": [
    {
     "name": "stdout",
     "output_type": "stream",
     "text": [
      "Anant\n",
      "42\n"
     ]
    }
   ],
   "source": [
    "print(thisdict[\"Name\"])\n",
    "print(thisdict[\"Age\"])"
   ]
  },
  {
   "cell_type": "code",
   "execution_count": 78,
   "id": "06267e61-5066-4f27-997c-d7711991ab30",
   "metadata": {},
   "outputs": [
    {
     "ename": "TypeError",
     "evalue": "'set' object is not subscriptable",
     "output_type": "error",
     "traceback": [
      "\u001b[1;31m---------------------------------------------------------------------------\u001b[0m",
      "\u001b[1;31mTypeError\u001b[0m                                 Traceback (most recent call last)",
      "Cell \u001b[1;32mIn[78], line 2\u001b[0m\n\u001b[0;32m      1\u001b[0m thisset\u001b[38;5;241m=\u001b[39m{\u001b[38;5;241m1\u001b[39m,\u001b[38;5;241m2\u001b[39m,\u001b[38;5;241m3\u001b[39m,\u001b[38;5;241m1\u001b[39m,\u001b[38;5;241m2\u001b[39m,\u001b[38;5;241m3\u001b[39m,\u001b[38;5;241m4\u001b[39m}\n\u001b[1;32m----> 2\u001b[0m \u001b[38;5;28mprint\u001b[39m(thisset[\u001b[38;5;241m0\u001b[39m])\n",
      "\u001b[1;31mTypeError\u001b[0m: 'set' object is not subscriptable"
     ]
    }
   ],
   "source": [
    "thisset={1,2,3,1,2,3,4}\n",
    "print(thisset[0])"
   ]
  },
  {
   "cell_type": "code",
   "execution_count": 86,
   "id": "8bdebfbe-0e70-4810-a200-e6e2a4645f8f",
   "metadata": {},
   "outputs": [
    {
     "name": "stdout",
     "output_type": "stream",
     "text": [
      "False\n",
      "True\n",
      "False\n",
      "True\n"
     ]
    }
   ],
   "source": [
    "print(9>10)\n",
    "print(9<10)\n",
    "print(9==10)\n",
    "print(9==9)\n",
    "#print(9=10)"
   ]
  },
  {
   "cell_type": "raw",
   "id": "78c30551-9019-4f1b-8202-b8699ededd87",
   "metadata": {},
   "source": [
    "print(\"Hello, Anant Khutale\")\n",
    "print('How are you \"?\"')\n"
   ]
  },
  {
   "cell_type": "code",
   "execution_count": 90,
   "id": "1617e4ba-1a0f-4fed-8693-e50ff5990bab",
   "metadata": {},
   "outputs": [
    {
     "name": "stdout",
     "output_type": "stream",
     "text": [
      "Hello, Anant Khutale\n",
      "How are you \"?\"\n",
      "I am fine.'you?'\n"
     ]
    }
   ],
   "source": [
    "print(\"Hello, Anant Khutale\")\n",
    "print('How are you \"?\"')\n",
    "print(\"I am fine.'you?'\")\n"
   ]
  },
  {
   "cell_type": "code",
   "execution_count": 11,
   "id": "3bc75946-105d-4933-85f4-53eaca4fab76",
   "metadata": {},
   "outputs": [
    {
     "name": "stdout",
     "output_type": "stream",
     "text": [
      "8\n",
      "0\n"
     ]
    }
   ],
   "source": [
    "a= 2\n",
    "b = 3\n",
    "\n",
    "print(a**b)\n",
    "\n",
    "print(a//b)"
   ]
  },
  {
   "cell_type": "code",
   "execution_count": 37,
   "id": "7f8009fb-f4e7-4a73-9f94-d2672de2d848",
   "metadata": {},
   "outputs": [
    {
     "name": "stdout",
     "output_type": "stream",
     "text": [
      "12\n",
      "120\n",
      "12.0\n"
     ]
    }
   ],
   "source": [
    "A = 2\n",
    "A += 10\n",
    "print(A)\n",
    "\n",
    "A *= 10\n",
    "print(A)\n",
    "\n",
    "A /= 10\n",
    "print(A)"
   ]
  },
  {
   "cell_type": "code",
   "execution_count": 47,
   "id": "f66909fc-46ec-4678-bbad-c532783d7fe8",
   "metadata": {},
   "outputs": [
    {
     "name": "stdout",
     "output_type": "stream",
     "text": [
      "8\n"
     ]
    }
   ],
   "source": [
    "X = 10\n",
    "Y = 12\n",
    "X &= Y\n",
    "\n",
    "print(X)"
   ]
  },
  {
   "cell_type": "code",
   "execution_count": 59,
   "id": "929b1cdf-8269-4eb7-93e4-f6ab3cdecbb3",
   "metadata": {},
   "outputs": [
    {
     "name": "stdout",
     "output_type": "stream",
     "text": [
      "False\n",
      "200\n"
     ]
    }
   ],
   "source": [
    "# firstValue=10 secoundValue=20 then check \n",
    "\n",
    "firstValue = 100\n",
    "secoundValue = 100\n",
    "\n",
    "print(firstValue>secoundValue)\n",
    "if(firstValue==secoundValue):\n",
    "    a = firstValue+secoundValue\n",
    "    print(a)\n",
    "else:\n",
    "    print(\"FirstValue is Geterthan SecondValue is requried\")\n",
    "\n",
    "\n",
    "\n"
   ]
  },
  {
   "cell_type": "code",
   "execution_count": 7,
   "id": "0e5c525c-e9ef-47fd-a631-db092b992e57",
   "metadata": {},
   "outputs": [
    {
     "name": "stdout",
     "output_type": "stream",
     "text": [
      "Total Marks = 200 \n",
      "Result = PASS\n"
     ]
    }
   ],
   "source": [
    "Hindi=50\n",
    "Marathi=50\n",
    "English=50\n",
    "Math=50\n",
    "\n",
    "#print(Hindi>=35 and Marathi>=35 and English>=35 and Math>35)\n",
    "if(Hindi>=35 and Marathi>=35 and English>=35 and Math>35):\n",
    "    print(\"Total Marks =\",Hindi+Marathi+English+Math, \"\\nResult = PASS\")\n",
    "else:\n",
    "    print(Hindi+Marathi+English+Math,\"\\nYou are Fail in one subject \\nResult = FAIL\")"
   ]
  },
  {
   "cell_type": "code",
   "execution_count": 11,
   "id": "ca194293-3607-4e7d-a848-07946f3b7b4c",
   "metadata": {},
   "outputs": [
    {
     "name": "stdout",
     "output_type": "stream",
     "text": [
      "17\n"
     ]
    }
   ],
   "source": [
    "Arnav = 7\n",
    "Snehal = 9\n",
    "Anant = 1\n",
    "\n",
    "print(Arnav+Snehal+Anant)"
   ]
  },
  {
   "cell_type": "code",
   "execution_count": null,
   "id": "3403f977-06d1-4882-9289-136109e98caa",
   "metadata": {},
   "outputs": [],
   "source": []
  }
 ],
 "metadata": {
  "kernelspec": {
   "display_name": "Python 3 (ipykernel)",
   "language": "python",
   "name": "python3"
  },
  "language_info": {
   "codemirror_mode": {
    "name": "ipython",
    "version": 3
   },
   "file_extension": ".py",
   "mimetype": "text/x-python",
   "name": "python",
   "nbconvert_exporter": "python",
   "pygments_lexer": "ipython3",
   "version": "3.12.7"
  }
 },
 "nbformat": 4,
 "nbformat_minor": 5
}
